{
 "cells": [
  {
   "cell_type": "markdown",
   "metadata": {},
   "source": [
    "# Order Brushing Solution (Shopee Code League 2020)\n",
    "\n",
    "This solution has score **0.89933**"
   ]
  },
  {
   "cell_type": "code",
   "execution_count": 29,
   "metadata": {},
   "outputs": [],
   "source": [
    "import pandas as pd \n",
    "import numpy as np \n",
    "import matplotlib.pyplot as plt"
   ]
  },
  {
   "cell_type": "markdown",
   "metadata": {},
   "source": [
    "Read dataset and explore some attributes"
   ]
  },
  {
   "cell_type": "code",
   "execution_count": 30,
   "metadata": {},
   "outputs": [
    {
     "output_type": "execute_result",
     "data": {
      "text/plain": "orderid                int64\nshopid                 int64\nuserid                 int64\nevent_time    datetime64[ns]\ndtype: object"
     },
     "metadata": {},
     "execution_count": 30
    }
   ],
   "source": [
    "d1 = pd.read_csv(\"./data/order_brush_order.csv\", header=0, parse_dates=[3])\n",
    "d1.dtypes"
   ]
  },
  {
   "cell_type": "code",
   "execution_count": 31,
   "metadata": {},
   "outputs": [
    {
     "output_type": "stream",
     "name": "stdout",
     "text": "Row:  222750\n"
    }
   ],
   "source": [
    "row, column = d1.shape\n",
    "print(\"Row: \", row)"
   ]
  },
  {
   "cell_type": "code",
   "execution_count": 32,
   "metadata": {},
   "outputs": [
    {
     "output_type": "execute_result",
     "data": {
      "text/plain": "            count          mean           std           min           25%  \\\norderid  222750.0  3.130027e+13  1.222774e+11  3.107520e+13  3.120360e+13   \nshopid   222750.0  9.433117e+07  5.695790e+07  1.000900e+04  4.980267e+07   \nuserid   222750.0  9.802880e+07  6.839048e+07  1.000700e+04  3.508127e+07   \n\n                  50%           75%           max  \norderid  3.130561e+13  3.140604e+13  3.150720e+13  \nshopid   9.033636e+07  1.475053e+08  2.154352e+08  \nuserid   9.309625e+07  1.590612e+08  2.155262e+08  ",
      "text/html": "<div>\n<style scoped>\n    .dataframe tbody tr th:only-of-type {\n        vertical-align: middle;\n    }\n\n    .dataframe tbody tr th {\n        vertical-align: top;\n    }\n\n    .dataframe thead th {\n        text-align: right;\n    }\n</style>\n<table border=\"1\" class=\"dataframe\">\n  <thead>\n    <tr style=\"text-align: right;\">\n      <th></th>\n      <th>count</th>\n      <th>mean</th>\n      <th>std</th>\n      <th>min</th>\n      <th>25%</th>\n      <th>50%</th>\n      <th>75%</th>\n      <th>max</th>\n    </tr>\n  </thead>\n  <tbody>\n    <tr>\n      <th>orderid</th>\n      <td>222750.0</td>\n      <td>3.130027e+13</td>\n      <td>1.222774e+11</td>\n      <td>3.107520e+13</td>\n      <td>3.120360e+13</td>\n      <td>3.130561e+13</td>\n      <td>3.140604e+13</td>\n      <td>3.150720e+13</td>\n    </tr>\n    <tr>\n      <th>shopid</th>\n      <td>222750.0</td>\n      <td>9.433117e+07</td>\n      <td>5.695790e+07</td>\n      <td>1.000900e+04</td>\n      <td>4.980267e+07</td>\n      <td>9.033636e+07</td>\n      <td>1.475053e+08</td>\n      <td>2.154352e+08</td>\n    </tr>\n    <tr>\n      <th>userid</th>\n      <td>222750.0</td>\n      <td>9.802880e+07</td>\n      <td>6.839048e+07</td>\n      <td>1.000700e+04</td>\n      <td>3.508127e+07</td>\n      <td>9.309625e+07</td>\n      <td>1.590612e+08</td>\n      <td>2.155262e+08</td>\n    </tr>\n  </tbody>\n</table>\n</div>"
     },
     "metadata": {},
     "execution_count": 32
    }
   ],
   "source": [
    "d1.describe().T"
   ]
  },
  {
   "cell_type": "code",
   "execution_count": 33,
   "metadata": {},
   "outputs": [
    {
     "output_type": "execute_result",
     "data": {
      "text/plain": "          orderid     shopid     userid          event_time\n0  31076582227611   93950878   30530270 2019-12-27 00:23:03\n1  31118059853484  156423439   46057927 2019-12-27 11:54:20\n2  31123355095755  173699291   67341739 2019-12-27 13:22:35\n3  31122059872723   63674025  149380322 2019-12-27 13:01:00\n4  31117075665123  127249066  149493217 2019-12-27 11:37:55\n5  31119725718155  173811070  116451780 2019-12-27 12:22:05\n6  31151322178251  107921853  166741763 2019-12-27 21:08:43\n7  31079856153738  178400128   61272835 2019-12-27 01:17:37\n8  31118426867571  147941492   10986763 2019-12-27 12:00:27\n9  31133458226149  164933170  135957741 2019-12-27 16:10:59",
      "text/html": "<div>\n<style scoped>\n    .dataframe tbody tr th:only-of-type {\n        vertical-align: middle;\n    }\n\n    .dataframe tbody tr th {\n        vertical-align: top;\n    }\n\n    .dataframe thead th {\n        text-align: right;\n    }\n</style>\n<table border=\"1\" class=\"dataframe\">\n  <thead>\n    <tr style=\"text-align: right;\">\n      <th></th>\n      <th>orderid</th>\n      <th>shopid</th>\n      <th>userid</th>\n      <th>event_time</th>\n    </tr>\n  </thead>\n  <tbody>\n    <tr>\n      <th>0</th>\n      <td>31076582227611</td>\n      <td>93950878</td>\n      <td>30530270</td>\n      <td>2019-12-27 00:23:03</td>\n    </tr>\n    <tr>\n      <th>1</th>\n      <td>31118059853484</td>\n      <td>156423439</td>\n      <td>46057927</td>\n      <td>2019-12-27 11:54:20</td>\n    </tr>\n    <tr>\n      <th>2</th>\n      <td>31123355095755</td>\n      <td>173699291</td>\n      <td>67341739</td>\n      <td>2019-12-27 13:22:35</td>\n    </tr>\n    <tr>\n      <th>3</th>\n      <td>31122059872723</td>\n      <td>63674025</td>\n      <td>149380322</td>\n      <td>2019-12-27 13:01:00</td>\n    </tr>\n    <tr>\n      <th>4</th>\n      <td>31117075665123</td>\n      <td>127249066</td>\n      <td>149493217</td>\n      <td>2019-12-27 11:37:55</td>\n    </tr>\n    <tr>\n      <th>5</th>\n      <td>31119725718155</td>\n      <td>173811070</td>\n      <td>116451780</td>\n      <td>2019-12-27 12:22:05</td>\n    </tr>\n    <tr>\n      <th>6</th>\n      <td>31151322178251</td>\n      <td>107921853</td>\n      <td>166741763</td>\n      <td>2019-12-27 21:08:43</td>\n    </tr>\n    <tr>\n      <th>7</th>\n      <td>31079856153738</td>\n      <td>178400128</td>\n      <td>61272835</td>\n      <td>2019-12-27 01:17:37</td>\n    </tr>\n    <tr>\n      <th>8</th>\n      <td>31118426867571</td>\n      <td>147941492</td>\n      <td>10986763</td>\n      <td>2019-12-27 12:00:27</td>\n    </tr>\n    <tr>\n      <th>9</th>\n      <td>31133458226149</td>\n      <td>164933170</td>\n      <td>135957741</td>\n      <td>2019-12-27 16:10:59</td>\n    </tr>\n  </tbody>\n</table>\n</div>"
     },
     "metadata": {},
     "execution_count": 33
    }
   ],
   "source": [
    "d1.head(10)"
   ]
  },
  {
   "cell_type": "markdown",
   "metadata": {},
   "source": [
    "Retrieve brushing `orderid` and all relevant `orderid`s.\n",
    "\n",
    "**Warning**: the following cell may run more than 5 minutes."
   ]
  },
  {
   "cell_type": "code",
   "execution_count": 46,
   "metadata": {
    "tags": [
     "outputPrepend",
     "outputPrepend"
    ]
   },
   "outputs": [],
   "source": [
    "delta = pd.Timedelta(hours=1)\n",
    "order_list = set() # store other rows that relevant to a brushing rows\n",
    "shop_query = dict() # to store query for shopid to quickly access\n",
    "\n",
    "i = 0\n",
    "while i < row:\n",
    "    # if i % 10000 == 0:\n",
    "    #     print(i)\n",
    "\n",
    "    r = d1.iloc[i]\n",
    "    end_time = r.event_time + delta\n",
    "    previous_time = r.event_time - delta\n",
    "    \n",
    "    q = shop_query[r.shopid] if r.shopid in shop_query else d1[d1.shopid == r.shopid]\n",
    "    shop_query[r.shopid] = q\n",
    "\n",
    "    q_n = q[q.event_time.between(r.event_time, end_time)]\n",
    "    q_p = q[q.event_time.between(previous_time, r.event_time)]\n",
    "\n",
    "    con_rate_p = len(q_p)/q_p.userid.nunique()\n",
    "    con_rate_n = len(q_n)/q_n.userid.nunique()\n",
    "\n",
    "    if con_rate_p >= 3:\n",
    "        # order_brushing.append(r.orderid)\n",
    "        order_list.update(list(q_p.orderid.unique()))\n",
    "    if con_rate_n >= 3:\n",
    "        order_list.update(list(q_n.orderid.unique()))\n",
    "\n",
    "    i+=1\n"
   ]
  },
  {
   "cell_type": "markdown",
   "metadata": {},
   "source": [
    "Query data set"
   ]
  },
  {
   "cell_type": "code",
   "execution_count": 47,
   "metadata": {},
   "outputs": [],
   "source": [
    "d2 = d1[d1.orderid.isin(order_list)]"
   ]
  },
  {
   "cell_type": "code",
   "execution_count": 48,
   "metadata": {},
   "outputs": [
    {
     "output_type": "stream",
     "name": "stdout",
     "text": "(1134, 4)\n"
    }
   ],
   "source": [
    "print(d2.shape)\n",
    "d2_row, d2_column = d2.shape"
   ]
  },
  {
   "cell_type": "markdown",
   "metadata": {},
   "source": [
    "Define a function to find all `userid` with highest user proportion."
   ]
  },
  {
   "cell_type": "code",
   "execution_count": 49,
   "metadata": {},
   "outputs": [],
   "source": [
    "def find_max(userid_list, user_p_list):\n",
    "    max_value = max(user_p_list)\n",
    "    maxs_index = []\n",
    "    for i, value in enumerate(user_p_list):\n",
    "        if value == max_value:\n",
    "            maxs_index.append(i)\n",
    "    max_user = [ userid_list[i] for i in maxs_index]\n",
    "    return max_value, set(max_user)"
   ]
  },
  {
   "cell_type": "markdown",
   "metadata": {},
   "source": [
    "Define a dictionary to store `shopid` with `userid` and maximum user proportion for that `userid`s"
   ]
  },
  {
   "cell_type": "code",
   "execution_count": 50,
   "metadata": {},
   "outputs": [],
   "source": [
    "shop_list = dict()\n",
    "\n",
    "def add_to_list(shopid, max_tuples):\n",
    "    if shopid not in shop_list:\n",
    "        shop_list[shopid] = max_tuples\n",
    "        return\n",
    "    \n",
    "    max_value, max_user = shop_list[shopid]\n",
    "    max_v, max_u = max_tuples\n",
    "    if max_v > max_value:\n",
    "        shop_list[shopid] = max_tuples\n",
    "    elif max_v == max_value:\n",
    "        shop_list[shopid] = (max_value, max_user.union(max_u))\n"
   ]
  },
  {
   "cell_type": "markdown",
   "metadata": {},
   "source": [
    "Process in brushing order, find `userid` for each case and then put into shop_list"
   ]
  },
  {
   "cell_type": "code",
   "execution_count": 51,
   "metadata": {},
   "outputs": [],
   "source": [
    "d2_uniq_shop = d2.shopid.unique()\n",
    "for shopid in d2_uniq_shop:\n",
    "    q = d2[d2.shopid == shopid]\n",
    "\n",
    "    user_list = q.userid.unique()\n",
    "    sum_order = len(q)\n",
    "    user_proportion = []\n",
    "    for userid in user_list:\n",
    "        user_proportion.append(len(q[q.userid == userid])/sum_order)\n",
    "\n",
    "    max_value, max_user = find_max(user_list,user_proportion)\n",
    "    add_to_list(shopid, (max_value, max_user))"
   ]
  },
  {
   "cell_type": "code",
   "execution_count": 52,
   "metadata": {},
   "outputs": [
    {
     "output_type": "execute_result",
     "data": {
      "text/plain": "308"
     },
     "metadata": {},
     "execution_count": 52
    }
   ],
   "source": [
    "len(d2_uniq_shop)"
   ]
  },
  {
   "cell_type": "markdown",
   "metadata": {},
   "source": [
    "Get unique `shopid`"
   ]
  },
  {
   "cell_type": "code",
   "execution_count": 53,
   "metadata": {},
   "outputs": [],
   "source": [
    "unique_shopid = d1.shopid.unique()"
   ]
  },
  {
   "cell_type": "markdown",
   "metadata": {},
   "source": [
    "Process `userid` for each `shopid`"
   ]
  },
  {
   "cell_type": "code",
   "execution_count": 54,
   "metadata": {
    "tags": [
     "outputPrepend",
     "outputPrepend",
     "outputPrepend",
     "outputPrepend",
     "outputPrepend",
     "outputPrepend",
     "outputPrepend",
     "outputPrepend",
     "outputPrepend",
     "outputPrepend",
     "outputPrepend",
     "outputPrepend",
     "outputPrepend",
     "outputPrepend",
     "outputPrepend",
     "outputPrepend",
     "outputPrepend",
     "outputPrepend",
     "outputPrepend",
     "outputPrepend",
     "outputPrepend",
     "outputPrepend",
     "outputPrepend",
     "outputPrepend",
     "outputPrepend",
     "outputPrepend",
     "outputPrepend",
     "outputPrepend",
     "outputPrepend",
     "outputPrepend",
     "outputPrepend",
     "outputPrepend",
     "outputPrepend",
     "outputPrepend",
     "outputPrepend",
     "outputPrepend",
     "outputPrepend",
     "outputPrepend",
     "outputPrepend",
     "outputPrepend",
     "outputPrepend",
     "outputPrepend",
     "outputPrepend",
     "outputPrepend",
     "outputPrepend",
     "outputPrepend",
     "outputPrepend",
     "outputPrepend",
     "outputPrepend",
     "outputPrepend",
     "outputPrepend",
     "outputPrepend",
     "outputPrepend",
     "outputPrepend",
     "outputPrepend",
     "outputPrepend",
     "outputPrepend",
     "outputPrepend",
     "outputPrepend",
     "outputPrepend",
     "outputPrepend",
     "outputPrepend",
     "outputPrepend",
     "outputPrepend",
     "outputPrepend",
     "outputPrepend",
     "outputPrepend",
     "outputPrepend",
     "outputPrepend",
     "outputPrepend",
     "outputPrepend",
     "outputPrepend",
     "outputPrepend",
     "outputPrepend",
     "outputPrepend",
     "outputPrepend",
     "outputPrepend",
     "outputPrepend",
     "outputPrepend",
     "outputPrepend",
     "outputPrepend",
     "outputPrepend",
     "outputPrepend",
     "outputPrepend",
     "outputPrepend",
     "outputPrepend",
     "outputPrepend",
     "outputPrepend",
     "outputPrepend",
     "outputPrepend",
     "outputPrepend",
     "outputPrepend",
     "outputPrepend",
     "outputPrepend",
     "outputPrepend",
     "outputPrepend",
     "outputPrepend",
     "outputPrepend",
     "outputPrepend",
     "outputPrepend",
     "outputPrepend",
     "outputPrepend",
     "outputPrepend",
     "outputPrepend",
     "outputPrepend",
     "outputPrepend",
     "outputPrepend",
     "outputPrepend",
     "outputPrepend",
     "outputPrepend",
     "outputPrepend",
     "outputPrepend",
     "outputPrepend",
     "outputPrepend",
     "outputPrepend",
     "outputPrepend",
     "outputPrepend",
     "outputPrepend",
     "outputPrepend",
     "outputPrepend",
     "outputPrepend"
    ]
   },
   "outputs": [],
   "source": [
    "userid_shopid = []\n",
    "for shopid in unique_shopid:\n",
    "    userid = \"0\"\n",
    "    if shopid in shop_list:\n",
    "        max_value, max_user = shop_list[shopid]\n",
    "        userid = \"&\".join([str(u) for u in sorted(list(max_user))])\n",
    "    userid_shopid.append(userid)"
   ]
  },
  {
   "cell_type": "markdown",
   "metadata": {},
   "source": [
    "Save submission"
   ]
  },
  {
   "cell_type": "code",
   "execution_count": 55,
   "metadata": {},
   "outputs": [],
   "source": [
    "sms = pd.DataFrame({\n",
    "    \"shopid\": unique_shopid,\n",
    "    \"userid\": userid_shopid\n",
    "})"
   ]
  },
  {
   "cell_type": "code",
   "execution_count": 56,
   "metadata": {},
   "outputs": [
    {
     "output_type": "execute_result",
     "data": {
      "text/plain": "          shopid              userid\n34       1175477           122277324\n70      66861410           213502289\n72       8715449             9753706\n140     58543771            61893096\n141    156883302  76102350&188025647\n...          ...                 ...\n12754   78837196            78903959\n12954  189544563              799445\n13958   64369518           172591713\n14302   83234229           181942741\n15912  157939195            69563623\n\n[308 rows x 2 columns]",
      "text/html": "<div>\n<style scoped>\n    .dataframe tbody tr th:only-of-type {\n        vertical-align: middle;\n    }\n\n    .dataframe tbody tr th {\n        vertical-align: top;\n    }\n\n    .dataframe thead th {\n        text-align: right;\n    }\n</style>\n<table border=\"1\" class=\"dataframe\">\n  <thead>\n    <tr style=\"text-align: right;\">\n      <th></th>\n      <th>shopid</th>\n      <th>userid</th>\n    </tr>\n  </thead>\n  <tbody>\n    <tr>\n      <th>34</th>\n      <td>1175477</td>\n      <td>122277324</td>\n    </tr>\n    <tr>\n      <th>70</th>\n      <td>66861410</td>\n      <td>213502289</td>\n    </tr>\n    <tr>\n      <th>72</th>\n      <td>8715449</td>\n      <td>9753706</td>\n    </tr>\n    <tr>\n      <th>140</th>\n      <td>58543771</td>\n      <td>61893096</td>\n    </tr>\n    <tr>\n      <th>141</th>\n      <td>156883302</td>\n      <td>76102350&amp;188025647</td>\n    </tr>\n    <tr>\n      <th>...</th>\n      <td>...</td>\n      <td>...</td>\n    </tr>\n    <tr>\n      <th>12754</th>\n      <td>78837196</td>\n      <td>78903959</td>\n    </tr>\n    <tr>\n      <th>12954</th>\n      <td>189544563</td>\n      <td>799445</td>\n    </tr>\n    <tr>\n      <th>13958</th>\n      <td>64369518</td>\n      <td>172591713</td>\n    </tr>\n    <tr>\n      <th>14302</th>\n      <td>83234229</td>\n      <td>181942741</td>\n    </tr>\n    <tr>\n      <th>15912</th>\n      <td>157939195</td>\n      <td>69563623</td>\n    </tr>\n  </tbody>\n</table>\n<p>308 rows × 2 columns</p>\n</div>"
     },
     "metadata": {},
     "execution_count": 56
    }
   ],
   "source": [
    "sms[sms.userid != \"0\"]"
   ]
  },
  {
   "cell_type": "code",
   "execution_count": 57,
   "metadata": {},
   "outputs": [],
   "source": [
    "sms.to_csv(\"./data/submission.csv\", index=False)"
   ]
  }
 ],
 "metadata": {
  "language_info": {
   "codemirror_mode": {
    "name": "ipython",
    "version": 2
   },
   "file_extension": ".py",
   "mimetype": "text/x-python",
   "name": "python",
   "nbconvert_exporter": "python",
   "pygments_lexer": "ipython2",
   "version": "3.7.3-final"
  },
  "orig_nbformat": 2,
  "kernelspec": {
   "name": "python3",
   "display_name": "Python 3"
  }
 },
 "nbformat": 4,
 "nbformat_minor": 2
}